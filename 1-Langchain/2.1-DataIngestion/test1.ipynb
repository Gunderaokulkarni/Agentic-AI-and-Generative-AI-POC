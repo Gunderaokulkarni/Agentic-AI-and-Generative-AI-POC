{
 "cells": [
  {
   "cell_type": "code",
   "execution_count": 1,
   "metadata": {},
   "outputs": [],
   "source": [
    "import os\n",
    "from langchain_community.document_loaders import PyPDFLoader\n",
    "#loader=PyPDFLoader(['syllabus.pdf','Machine Learning for Beginners'])\n",
    "file_paths = \"C:\\\\Users\\\\user\\\\Agentic _AI_workspace\\\\2-LangchainConti\\\\2.2-DataTransformer\"\n",
    "docs=[]\n",
    "for file in os.listdir(file_paths):\n",
    "        if file.endswith('.pdf'):\n",
    "            pdf_path = os.path.join(file_paths, file)\n",
    "            loader = PyPDFLoader(pdf_path)\n",
    "            docs.extend(loader.load())\n"
   ]
  },
  {
   "cell_type": "code",
   "execution_count": 2,
   "metadata": {},
   "outputs": [],
   "source": [
    "from langchain_text_splitters import RecursiveCharacterTextSplitter\n",
    "text_spliter=RecursiveCharacterTextSplitter(chunk_size=1000,chunk_overlap=200)\n",
    "final_document=text_spliter.split_documents(docs)"
   ]
  },
  {
   "cell_type": "code",
   "execution_count": 3,
   "metadata": {},
   "outputs": [
    {
     "name": "stderr",
     "output_type": "stream",
     "text": [
      "C:\\Users\\user\\AppData\\Local\\Temp\\ipykernel_17232\\926516400.py:3: LangChainDeprecationWarning: The class `OpenAIEmbeddings` was deprecated in LangChain 0.0.9 and will be removed in 1.0. An updated version of the class exists in the :class:`~langchain-openai package and should be used instead. To use it run `pip install -U :class:`~langchain-openai` and import as `from :class:`~langchain_openai import OpenAIEmbeddings``.\n",
      "  embeddings=OpenAIEmbeddings()\n"
     ]
    },
    {
     "data": {
      "text/plain": [
       "<langchain_community.vectorstores.faiss.FAISS at 0x1c40a105a60>"
      ]
     },
     "execution_count": 3,
     "metadata": {},
     "output_type": "execute_result"
    }
   ],
   "source": [
    "from langchain_community.vectorstores import FAISS\n",
    "from langchain_community.embeddings import OpenAIEmbeddings\n",
    "embeddings=OpenAIEmbeddings()\n",
    "vectorstore=FAISS.from_documents(docs,embeddings)\n",
    "vectorstore"
   ]
  },
  {
   "cell_type": "code",
   "execution_count": 4,
   "metadata": {},
   "outputs": [
    {
     "data": {
      "text/plain": [
       "True"
      ]
     },
     "execution_count": 4,
     "metadata": {},
     "output_type": "execute_result"
    }
   ],
   "source": [
    "import os\n",
    "from dotenv import load_dotenv\n",
    "load_dotenv()"
   ]
  },
  {
   "cell_type": "code",
   "execution_count": 5,
   "metadata": {},
   "outputs": [],
   "source": [
    "os.environ[\"OPENAI_API_KEY\"]=os.getenv(\"OPENAI_API_KEY\")\n",
    "\n",
    "## Langsmith Tracking and tracing\n",
    "\n",
    "os.environ[\"LANGCHAIN_API_KEY\"]=os.getenv(\"LANGCHAIN_API_KEY\")\n",
    "os.environ[\"LANGCHAIN_TRACING_V2\"]=\"true\"\n",
    "os.environ[\"LANGCHAIN_PROJECT\"]=os.getenv(\"LANGCHAIN_PROJECT\")"
   ]
  },
  {
   "cell_type": "code",
   "execution_count": 6,
   "metadata": {},
   "outputs": [
    {
     "name": "stdout",
     "output_type": "stream",
     "text": [
      "client=<openai.resources.chat.completions.Completions object at 0x000001C409307E90> async_client=<openai.resources.chat.completions.AsyncCompletions object at 0x000001C409304650> root_client=<openai.OpenAI object at 0x000001C40810C530> root_async_client=<openai.AsyncOpenAI object at 0x000001C408127F50> model_name='gpt-4' model_kwargs={} openai_api_key=SecretStr('**********')\n"
     ]
    }
   ],
   "source": [
    "from langchain_openai import ChatOpenAI\n",
    "\n",
    "llm=ChatOpenAI(model=\"gpt-4\")\n",
    "print(llm)"
   ]
  },
  {
   "cell_type": "code",
   "execution_count": 7,
   "metadata": {},
   "outputs": [],
   "source": [
    "from langchain_core.prompts import ChatPromptTemplate\n",
    "\n",
    "prompt=ChatPromptTemplate.from_template(\n",
    "    \"\"\"\n",
    "Answer the following question based only on the provided context:\n",
    "<context>\n",
    "{context}\n",
    "</context>\n",
    "\n",
    "\n",
    "\"\"\"\n",
    ")"
   ]
  },
  {
   "cell_type": "code",
   "execution_count": 8,
   "metadata": {},
   "outputs": [
    {
     "data": {
      "text/plain": [
       "RunnableBinding(bound=RunnableBinding(bound=RunnableAssign(mapper={\n",
       "  context: RunnableLambda(format_docs)\n",
       "}), kwargs={}, config={'run_name': 'format_inputs'}, config_factories=[])\n",
       "| ChatPromptTemplate(input_variables=['context'], input_types={}, partial_variables={}, messages=[HumanMessagePromptTemplate(prompt=PromptTemplate(input_variables=['context'], input_types={}, partial_variables={}, template='\\nAnswer the following question based only on the provided context:\\n<context>\\n{context}\\n</context>\\n\\n\\n'), additional_kwargs={})])\n",
       "| ChatOpenAI(client=<openai.resources.chat.completions.Completions object at 0x000001C409307E90>, async_client=<openai.resources.chat.completions.AsyncCompletions object at 0x000001C409304650>, root_client=<openai.OpenAI object at 0x000001C40810C530>, root_async_client=<openai.AsyncOpenAI object at 0x000001C408127F50>, model_name='gpt-4', model_kwargs={}, openai_api_key=SecretStr('**********'))\n",
       "| StrOutputParser(), kwargs={}, config={'run_name': 'stuff_documents_chain'}, config_factories=[])"
      ]
     },
     "execution_count": 8,
     "metadata": {},
     "output_type": "execute_result"
    }
   ],
   "source": [
    "retriever=vectorstore.as_retriever()\n",
    "\n",
    "from langchain.chains.combine_documents import create_stuff_documents_chain\n",
    "document_chain=create_stuff_documents_chain(llm,prompt)\n",
    "document_chain"
   ]
  },
  {
   "cell_type": "code",
   "execution_count": 9,
   "metadata": {},
   "outputs": [
    {
     "data": {
      "text/plain": [
       "RunnableBinding(bound=RunnableAssign(mapper={\n",
       "  context: RunnableBinding(bound=RunnableLambda(lambda x: x['input'])\n",
       "           | VectorStoreRetriever(tags=['FAISS', 'OpenAIEmbeddings'], vectorstore=<langchain_community.vectorstores.faiss.FAISS object at 0x000001C40A105A60>, search_kwargs={}), kwargs={}, config={'run_name': 'retrieve_documents'}, config_factories=[])\n",
       "})\n",
       "| RunnableAssign(mapper={\n",
       "    answer: RunnableBinding(bound=RunnableBinding(bound=RunnableAssign(mapper={\n",
       "              context: RunnableLambda(format_docs)\n",
       "            }), kwargs={}, config={'run_name': 'format_inputs'}, config_factories=[])\n",
       "            | ChatPromptTemplate(input_variables=['context'], input_types={}, partial_variables={}, messages=[HumanMessagePromptTemplate(prompt=PromptTemplate(input_variables=['context'], input_types={}, partial_variables={}, template='\\nAnswer the following question based only on the provided context:\\n<context>\\n{context}\\n</context>\\n\\n\\n'), additional_kwargs={})])\n",
       "            | ChatOpenAI(client=<openai.resources.chat.completions.Completions object at 0x000001C409307E90>, async_client=<openai.resources.chat.completions.AsyncCompletions object at 0x000001C409304650>, root_client=<openai.OpenAI object at 0x000001C40810C530>, root_async_client=<openai.AsyncOpenAI object at 0x000001C408127F50>, model_name='gpt-4', model_kwargs={}, openai_api_key=SecretStr('**********'))\n",
       "            | StrOutputParser(), kwargs={}, config={'run_name': 'stuff_documents_chain'}, config_factories=[])\n",
       "  }), kwargs={}, config={'run_name': 'retrieval_chain'}, config_factories=[])"
      ]
     },
     "execution_count": 9,
     "metadata": {},
     "output_type": "execute_result"
    }
   ],
   "source": [
    "from langchain.chains import create_retrieval_chain\n",
    "\n",
    "retrieval_chain=create_retrieval_chain(retriever,document_chain)\n",
    "retrieval_chain"
   ]
  },
  {
   "cell_type": "code",
   "execution_count": 10,
   "metadata": {},
   "outputs": [],
   "source": [
    "Result=retrieval_chain.invoke({\"input\":\"The module also explores the Transformer architecture\"})"
   ]
  },
  {
   "cell_type": "code",
   "execution_count": 11,
   "metadata": {},
   "outputs": [
    {
     "data": {
      "text/plain": [
       "[Document(id='4c8d9939-d1aa-4754-81a7-bb7d81f054a2', metadata={'producer': 'Canva', 'creator': 'Canva', 'creationdate': '2025-01-30T20:27:03+00:00', 'title': 'Ultimate Data Science & GenAI Bootcamp', 'moddate': '2025-01-30T20:26:59+00:00', 'keywords': 'DAGdmhcqnYw,BAEmsmap8Lg,0', 'author': 'monal singh', 'containsaigeneratedcontent': 'Yes', 'source': 'C:\\\\Users\\\\user\\\\Agentic _AI_workspace\\\\2-LangchainConti\\\\2.2-DataTransformer\\\\syllabus.pdf', 'total_pages': 34, 'page': 4, 'page_label': '5'}, page_content=\"In this module, you’ll get a solid introduction to Python, covering essential programming concepts\\nsuch as variables, data types, operators, and control flow. You’ll learn how to manipulate strings,\\nlists, dictionaries, and other basic data structures. The module will also guide you through writing\\nsimple functions and using loops and conditionals effectively. By the end, you'll have a strong\\nunderstanding of Python syntax, preparing you to tackle more complex programming challenges\\nand form a foundation for learning advanced concepts.\\nUltimate Data Science & GenAI Bootcamp       Page  5\\nPython Foundations\\nModule 1\\nTopics\\nIntroduction to Python Comparison with other programming\\nlanguages, Python objects: Numbers,\\nBooleans, and Strings\\nData Structures & Operations Container objects and mutability,\\nOperators, Operator precedence and\\nassociativity\\nControl Flow Conditional statements, Loops, break\\nand continue statements\\nString Manipulation Basics of string objects, Inbuilt string\\nmethods, Splitting and joining strings,\\nString formatting functions\\nLists & Collections List methods, list comprehension, Lists as\\nstacks and queues, Tuples, sets, and\\ndictionaries, Dictionary comprehensions\\nand view objects\"),\n",
       " Document(id='07d48a67-072a-46b9-b226-3c60a33bc81c', metadata={'producer': 'Canva', 'creator': 'Canva', 'creationdate': '2025-01-30T20:27:03+00:00', 'title': 'Ultimate Data Science & GenAI Bootcamp', 'moddate': '2025-01-30T20:26:59+00:00', 'keywords': 'DAGdmhcqnYw,BAEmsmap8Lg,0', 'author': 'monal singh', 'containsaigeneratedcontent': 'Yes', 'source': 'C:\\\\Users\\\\user\\\\Agentic _AI_workspace\\\\2-LangchainConti\\\\2.2-DataTransformer\\\\syllabus.pdf', 'total_pages': 34, 'page': 5, 'page_label': '6'}, page_content='Topics\\nFunctions & Iterators Function basics and parameter passing,\\nIterators and generator functions,\\nLambda functions, map(), reduce(),\\nfilter()\\nPython Foundations\\nModule 1\\nUltimate Data Science & GenAI Bootcamp       Page  6'),\n",
       " Document(id='07891f2c-8605-4b28-97dc-c3503b75e391', metadata={'producer': 'Canva', 'creator': 'Canva', 'creationdate': '2025-01-30T20:27:03+00:00', 'title': 'Ultimate Data Science & GenAI Bootcamp', 'moddate': '2025-01-30T20:26:59+00:00', 'keywords': 'DAGdmhcqnYw,BAEmsmap8Lg,0', 'author': 'monal singh', 'containsaigeneratedcontent': 'Yes', 'source': 'C:\\\\Users\\\\user\\\\Agentic _AI_workspace\\\\2-LangchainConti\\\\2.2-DataTransformer\\\\syllabus.pdf', 'total_pages': 34, 'page': 6, 'page_label': '7'}, page_content='This module takes your Python skills further by diving into object-oriented programming (OOP)\\nconcepts like classes, inheritance, and polymorphism. You’ll also explore more advanced topics\\nsuch as decorators, lambda functions, iterators, and generator functions. Additionally, we cover\\nexception handling, file operations, and working with modules and libraries. By the end, you will be\\ncomfortable building more sophisticated Python applications and writing efficient, reusable code.\\nAdvanced Python Programming\\nModule 2\\nTopics\\nObject-Oriented Programming (OOP) OOP basics and class creation,\\nInheritance, Polymorphism,\\nEncapsulation, and Abstraction,\\nDecorators, class methods, and static\\nmethods, Special (Magic/Dunder)\\nmethods, Property decorators: Getters,\\nsetters, and delete methods\\nFile Handling & Logging Reading and writing files, Buffered read\\nand write operations, more file methods,\\nLogging and debugging\\nModules & Exception Handling Importing modules and using them\\neffectively, Exception handling\\nConcurrency & Parallelism Introduction to multithreading,\\nMultiprocessing for performance\\noptimization\\nUltimate Data Science & GenAI Bootcamp       Page  7'),\n",
       " Document(id='45f131a0-2d7e-4544-bfaa-7b6872a2328b', metadata={'producer': 'Canva', 'creator': 'Canva', 'creationdate': '2025-01-30T20:27:03+00:00', 'title': 'Ultimate Data Science & GenAI Bootcamp', 'moddate': '2025-01-30T20:26:59+00:00', 'keywords': 'DAGdmhcqnYw,BAEmsmap8Lg,0', 'author': 'monal singh', 'containsaigeneratedcontent': 'Yes', 'source': 'C:\\\\Users\\\\user\\\\Agentic _AI_workspace\\\\2-LangchainConti\\\\2.2-DataTransformer\\\\syllabus.pdf', 'total_pages': 34, 'page': 10, 'page_label': '11'}, page_content='This module dives into advanced SQL techniques, including complex queries, joins, and indexing\\nfor efficient data retrieval. You’ll learn how to implement stored procedures, triggers, and\\nfunctions, and explore the use of window functions and partitions. The module covers key\\ndatabase design concepts like primary and foreign keys and normalization. By the end, you’ll be\\nproficient in managing large-scale databases and optimizing SQL queries for performance.\\nAdvanced SQL and Database Management\\nTopics\\nIntroduction to SQL Introduction to SQL, SQL Queries:\\nSELECT, INSERT, UPDATE, DELETE\\nSQL Functions and Procedures SQL Functions (Aggregate, Scalar),\\nStored Procedures, User-defined\\nFunctions (UDFs), Function and\\nProcedure Syntax\\nDatabase Constraints Primary and Foreign Keys, Data Integrity,\\nReferential Integrity\\nAdvanced SQL Techniques Window Functions, Partitioning, CTE\\n(Common Table Expressions), Indexing\\nSQL Joins and Unions Inner Join, Left Join, Right Join, Full Outer\\nJoin, Cross Join, Union\\nTriggers and Case Statements Triggers (Before, After), CASE\\nStatements, Conditional Logic\\nUltimate Data Science & GenAI Bootcamp       Page  11\\nModule 6')]"
      ]
     },
     "execution_count": 11,
     "metadata": {},
     "output_type": "execute_result"
    }
   ],
   "source": [
    "query=\"The module will also guide you through writing simple functions \"\n",
    "r=vectorstore.similarity_search(query)\n",
    "r"
   ]
  },
  {
   "cell_type": "code",
   "execution_count": 12,
   "metadata": {},
   "outputs": [
    {
     "data": {
      "text/plain": [
       "\"In this module, you’ll get a solid introduction to Python, covering essential programming concepts\\nsuch as variables, data types, operators, and control flow. You’ll learn how to manipulate strings,\\nlists, dictionaries, and other basic data structures. The module will also guide you through writing\\nsimple functions and using loops and conditionals effectively. By the end, you'll have a strong\\nunderstanding of Python syntax, preparing you to tackle more complex programming challenges\\nand form a foundation for learning advanced concepts.\\nUltimate Data Science & GenAI Bootcamp       Page  5\\nPython Foundations\\nModule 1\\nTopics\\nIntroduction to Python Comparison with other programming\\nlanguages, Python objects: Numbers,\\nBooleans, and Strings\\nData Structures & Operations Container objects and mutability,\\nOperators, Operator precedence and\\nassociativity\\nControl Flow Conditional statements, Loops, break\\nand continue statements\\nString Manipulation Basics of string objects, Inbuilt string\\nmethods, Splitting and joining strings,\\nString formatting functions\\nLists & Collections List methods, list comprehension, Lists as\\nstacks and queues, Tuples, sets, and\\ndictionaries, Dictionary comprehensions\\nand view objects\""
      ]
     },
     "execution_count": 12,
     "metadata": {},
     "output_type": "execute_result"
    }
   ],
   "source": [
    "retriver=vectorstore.as_retriever()\n",
    "\n",
    "docs=retriever.invoke(query)\n",
    "docs[0].page_content"
   ]
  },
  {
   "cell_type": "code",
   "execution_count": 13,
   "metadata": {},
   "outputs": [
    {
     "name": "stderr",
     "output_type": "stream",
     "text": [
      "2025-02-16 14:21:38.877 WARNING streamlit.runtime.scriptrunner_utils.script_run_context: Thread 'MainThread': missing ScriptRunContext! This warning can be ignored when running in bare mode.\n",
      "2025-02-16 14:21:38.885 WARNING streamlit.runtime.scriptrunner_utils.script_run_context: Thread 'MainThread': missing ScriptRunContext! This warning can be ignored when running in bare mode.\n",
      "2025-02-16 14:21:41.090 \n",
      "  \u001b[33m\u001b[1mWarning:\u001b[0m to view this Streamlit app on a browser, run it with the following\n",
      "  command:\n",
      "\n",
      "    streamlit run c:\\Users\\user\\Agentic _AI_workspace\\venv\\Lib\\site-packages\\ipykernel_launcher.py [ARGUMENTS]\n",
      "2025-02-16 14:21:41.092 Thread 'MainThread': missing ScriptRunContext! This warning can be ignored when running in bare mode.\n",
      "2025-02-16 14:21:41.097 Thread 'MainThread': missing ScriptRunContext! This warning can be ignored when running in bare mode.\n",
      "2025-02-16 14:21:41.101 Thread 'MainThread': missing ScriptRunContext! This warning can be ignored when running in bare mode.\n",
      "2025-02-16 14:21:41.105 Thread 'MainThread': missing ScriptRunContext! This warning can be ignored when running in bare mode.\n",
      "2025-02-16 14:21:41.109 Thread 'MainThread': missing ScriptRunContext! This warning can be ignored when running in bare mode.\n",
      "2025-02-16 14:21:41.114 Session state does not function when running a script without `streamlit run`\n",
      "2025-02-16 14:21:41.121 Thread 'MainThread': missing ScriptRunContext! This warning can be ignored when running in bare mode.\n",
      "2025-02-16 14:21:41.126 Thread 'MainThread': missing ScriptRunContext! This warning can be ignored when running in bare mode.\n",
      "2025-02-16 14:21:41.130 Thread 'MainThread': missing ScriptRunContext! This warning can be ignored when running in bare mode.\n",
      "2025-02-16 14:21:41.135 Thread 'MainThread': missing ScriptRunContext! This warning can be ignored when running in bare mode.\n",
      "2025-02-16 14:21:41.140 Thread 'MainThread': missing ScriptRunContext! This warning can be ignored when running in bare mode.\n",
      "2025-02-16 14:21:41.145 Thread 'MainThread': missing ScriptRunContext! This warning can be ignored when running in bare mode.\n",
      "2025-02-16 14:21:41.149 Thread 'MainThread': missing ScriptRunContext! This warning can be ignored when running in bare mode.\n"
     ]
    }
   ],
   "source": [
    "import streamlit as st\n",
    "st.set_page_config(page_title=\"Doc Searcher\", page_icon=\":robot:\")\n",
    "st.header(\"Query PDF Source\")\n",
    "\n",
    "form_input = st.text_input('Enter Query')\n",
    "submit = st.button(\"Generate\")"
   ]
  },
  {
   "cell_type": "code",
   "execution_count": null,
   "metadata": {},
   "outputs": [],
   "source": []
  },
  {
   "cell_type": "code",
   "execution_count": null,
   "metadata": {},
   "outputs": [],
   "source": []
  },
  {
   "cell_type": "code",
   "execution_count": null,
   "metadata": {},
   "outputs": [],
   "source": []
  }
 ],
 "metadata": {
  "kernelspec": {
   "display_name": "Python 3",
   "language": "python",
   "name": "python3"
  },
  "language_info": {
   "codemirror_mode": {
    "name": "ipython",
    "version": 3
   },
   "file_extension": ".py",
   "mimetype": "text/x-python",
   "name": "python",
   "nbconvert_exporter": "python",
   "pygments_lexer": "ipython3",
   "version": "3.12.0"
  }
 },
 "nbformat": 4,
 "nbformat_minor": 2
}
